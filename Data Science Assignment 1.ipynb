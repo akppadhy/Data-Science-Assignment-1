{
 "cells": [
  {
   "cell_type": "code",
   "execution_count": 1,
   "id": "2d9aa4ae-5a53-4a94-92f8-eb767713fb4f",
   "metadata": {},
   "outputs": [
    {
     "name": "stdin",
     "output_type": "stream",
     "text": [
      "Enter the String you want to reverse:  data science\n"
     ]
    },
    {
     "name": "stdout",
     "output_type": "stream",
     "text": [
      "ecneics atad\n"
     ]
    }
   ],
   "source": [
    "#1. Write a Python program to reverse a string without using any built-in string reversal functions.\n",
    "\n",
    "def reverse_string(input_string):\n",
    "    reversed_string= \"\"\n",
    "    for char in input_string:\n",
    "        reversed_string= char + reversed_string\n",
    "    return reversed_string\n",
    "input_string= input(\"Enter the String you want to reverse: \")\n",
    "reversed_str= reverse_string(input_string)\n",
    "print(reversed_str)"
   ]
  },
  {
   "cell_type": "code",
   "execution_count": 3,
   "id": "31c5908a-5d91-46c9-8336-2ccf4f0e4d72",
   "metadata": {},
   "outputs": [
    {
     "name": "stdin",
     "output_type": "stream",
     "text": [
      "Enter String you want to check:  radar\n"
     ]
    },
    {
     "name": "stdout",
     "output_type": "stream",
     "text": [
      "Given String is palindrome: True\n"
     ]
    }
   ],
   "source": [
    "#2. Implement a function to check if a given string is a palindrome.\n",
    "\n",
    "def is_palindrome(input_string):\n",
    "    processed_string = input_string.lower().replace(\" \",\"\")\n",
    "    reversed_string = processed_string[::-1]\n",
    "    return print(\"Given String is palindrome:\", reversed_string==processed_string)\n",
    "\n",
    "input_string= input(\"Enter String you want to check: \")\n",
    "is_palindrome(input_string)\n"
   ]
  },
  {
   "cell_type": "code",
   "execution_count": 4,
   "id": "6fc05290-e964-494b-abe0-bb9bf0e9cc45",
   "metadata": {},
   "outputs": [
    {
     "name": "stdin",
     "output_type": "stream",
     "text": [
      "Enter the size of list:  5\n",
      "Enter the 1th element of list:  12\n",
      "Enter the 2th element of list:  22\n",
      "Enter the 3th element of list:  15\n",
      "Enter the 4th element of list:  45\n",
      "Enter the 5th element of list:  23\n"
     ]
    },
    {
     "name": "stdout",
     "output_type": "stream",
     "text": [
      "Largest element in given list is 45\n"
     ]
    }
   ],
   "source": [
    "#3. Write a program to find the largest element in a given list.\n",
    "\n",
    "def find_largest_element(input_list):\n",
    "    if not input_list:\n",
    "        return None\n",
    "    largest_element = input_list[0]\n",
    "    for element in input_list:\n",
    "        if element > largest_element:\n",
    "            largest_element = element\n",
    "    return largest_element\n",
    "\n",
    "size = int(input(\"Enter the size of list: \"))\n",
    "my_list = []\n",
    "for i in range(size):\n",
    "    element = int(input(f\"Enter the {i+1}th element of list: \"))\n",
    "    my_list.append(element)\n",
    "    \n",
    "largest_element = find_largest_element(my_list)\n",
    "print(f\"Largest element in given list is {largest_element}\")"
   ]
  },
  {
   "cell_type": "code",
   "execution_count": 6,
   "id": "89042ca3-3509-40b5-95cb-0f11fea348b4",
   "metadata": {},
   "outputs": [
    {
     "name": "stdin",
     "output_type": "stream",
     "text": [
      "Enter the size of the list:  4\n",
      "Enter the 1th element of the list:  42\n",
      "Enter the 2th element of the list:  12\n",
      "Enter the 3th element of the list:  36\n",
      "Enter the 4th element of the list:  42\n"
     ]
    },
    {
     "name": "stdout",
     "output_type": "stream",
     "text": [
      "Occurrence count: {'42': 2, '12': 1, '36': 1}\n"
     ]
    }
   ],
   "source": [
    "#4. Implement a function to count the occurrence of each element in a list.\n",
    "\n",
    "def count_occurrences(input_list):\n",
    "    occurrence_count = {}\n",
    "    for element in input_list:\n",
    "        if element in occurrence_count:\n",
    "            occurrence_count[element] += 1\n",
    "        else:\n",
    "            occurrence_count[element] = 1\n",
    "    return occurrence_count\n",
    "\n",
    "size = int(input(\"Enter the size of the list: \"))\n",
    "input_list = []\n",
    "for i in range(size):\n",
    "    element = input(f\"Enter the {i+1}th element of the list: \")\n",
    "    input_list.append(element)\n",
    "\n",
    "occurrence_count = count_occurrences(input_list)\n",
    "print(\"Occurrence count:\", occurrence_count)"
   ]
  },
  {
   "cell_type": "code",
   "execution_count": 7,
   "id": "cfdefed1-0810-431c-9dbb-91ef4b7ee123",
   "metadata": {},
   "outputs": [
    {
     "name": "stdin",
     "output_type": "stream",
     "text": [
      "Enter the size of the list:  12\n",
      "Enter the 1th element of the list:  14\n",
      "Enter the 2th element of the list:  15\n",
      "Enter the 3th element of the list:  13\n",
      "Enter the 4th element of the list:  16\n",
      "Enter the 5th element of the list:  23\n",
      "Enter the 6th element of the list:  14\n",
      "Enter the 7th element of the list:  12\n",
      "Enter the 8th element of the list:  45\n",
      "Enter the 9th element of the list:  23\n",
      "Enter the 10th element of the list:  22\n",
      "Enter the 11th element of the list:  26\n",
      "Enter the 12th element of the list:  28\n"
     ]
    },
    {
     "name": "stdout",
     "output_type": "stream",
     "text": [
      "Second largest number: 28\n"
     ]
    }
   ],
   "source": [
    "#5. Write a Python program to find the second largest number in a list.\n",
    "\n",
    "def find_second_largest(input_list):\n",
    "    if len(input_list) < 2:\n",
    "        return None\n",
    "    largest = second_largest = float('-inf')\n",
    "    for num in input_list:\n",
    "        if num > largest:\n",
    "            second_largest = largest\n",
    "            largest = num\n",
    "        elif num > second_largest and num != largest:\n",
    "            second_largest = num\n",
    "    if second_largest == float('-inf'):\n",
    "        return None\n",
    "    return second_largest\n",
    "\n",
    "size = int(input(\"Enter the size of the list: \"))\n",
    "input_list = []\n",
    "for i in range(size):\n",
    "    element = int(input(f\"Enter the {i+1}th element of the list: \"))\n",
    "    input_list.append(element)\n",
    "\n",
    "second_largest = find_second_largest(input_list)\n",
    "print(\"Second largest number:\", second_largest)"
   ]
  },
  {
   "cell_type": "code",
   "execution_count": 8,
   "id": "fcd51b89-3d95-4973-99d0-757318a7f342",
   "metadata": {},
   "outputs": [
    {
     "name": "stdin",
     "output_type": "stream",
     "text": [
      "Enter the size of the list:  4\n",
      "Enter the 1th element of the list:  11\n",
      "Enter the 2th element of the list:  22\n",
      "Enter the 3th element of the list:  33\n",
      "Enter the 4th element of the list:  44\n"
     ]
    },
    {
     "name": "stdout",
     "output_type": "stream",
     "text": [
      "List with duplicate elements removed: ['11', '22', '33', '44']\n"
     ]
    }
   ],
   "source": [
    "#6. Implement a function to remove duplicate elements from a list.\n",
    "\n",
    "def remove_duplicates(input_list):\n",
    "    seen = set()\n",
    "    result = []\n",
    "    for element in input_list:\n",
    "        if element not in seen:\n",
    "            seen.add(element)\n",
    "            result.append(element)\n",
    "    return result\n",
    "\n",
    "size = int(input(\"Enter the size of the list: \"))\n",
    "input_list = []\n",
    "for i in range(size):\n",
    "    element = input(f\"Enter the {i+1}th element of the list: \")\n",
    "    input_list.append(element)\n",
    "\n",
    "unique_list = remove_duplicates(input_list)\n",
    "print(\"List with duplicate elements removed:\", unique_list)"
   ]
  },
  {
   "cell_type": "code",
   "execution_count": 9,
   "id": "ef769f17-4523-4235-a7d2-b2416357eca2",
   "metadata": {},
   "outputs": [
    {
     "name": "stdin",
     "output_type": "stream",
     "text": [
      "Enter a number:  6\n"
     ]
    },
    {
     "name": "stdout",
     "output_type": "stream",
     "text": [
      "Factorial of 6 is 720\n"
     ]
    }
   ],
   "source": [
    "#7. Write a program to calculate the factorial of a given number.\n",
    "\n",
    "def factorial(n):\n",
    "    if n < 0:\n",
    "        return None\n",
    "    elif n == 0:\n",
    "        return 1\n",
    "    else:\n",
    "        result = 1\n",
    "        for i in range(1, n + 1):\n",
    "            result *= i\n",
    "        return result\n",
    "\n",
    "# Example usage\n",
    "num = int(input(\"Enter a number: \"))\n",
    "factorial_result = factorial(num)\n",
    "if factorial_result is None:\n",
    "    print(\"Factorial is undefined for negative numbers.\")\n",
    "else:\n",
    "    print(\"Factorial of\", num, \"is\", factorial_result)"
   ]
  },
  {
   "cell_type": "code",
   "execution_count": 10,
   "id": "d562925c-67d1-4f3e-b369-44b1624008da",
   "metadata": {},
   "outputs": [
    {
     "name": "stdin",
     "output_type": "stream",
     "text": [
      "Enter a number:  7\n"
     ]
    },
    {
     "name": "stdout",
     "output_type": "stream",
     "text": [
      "7 is a prime number.\n"
     ]
    }
   ],
   "source": [
    "#8. Implement a function to check if a given number is prime.\n",
    "\n",
    "def is_prime(number):\n",
    "    if number < 2:\n",
    "        return False\n",
    "    for i in range(2, int(number ** 0.5) + 1):\n",
    "        if number % i == 0:\n",
    "            return False\n",
    "    return True\n",
    "\n",
    "num = int(input(\"Enter a number: \"))\n",
    "\n",
    "if is_prime(num):\n",
    "    print(num, \"is a prime number.\")\n",
    "else:\n",
    "    print(num, \"is not a prime number.\")"
   ]
  },
  {
   "cell_type": "code",
   "execution_count": 1,
   "id": "1636ec78-abbb-425f-948e-c8c72c6bb361",
   "metadata": {},
   "outputs": [
    {
     "name": "stdin",
     "output_type": "stream",
     "text": [
      "Enter the size of the list:  6\n",
      "Enter the 1th element of the list:  12\n",
      "Enter the 2th element of the list:  45\n",
      "Enter the 3th element of the list:  41\n",
      "Enter the 4th element of the list:  53\n",
      "Enter the 5th element of the list:  26\n",
      "Enter the 6th element of the list:  63\n"
     ]
    },
    {
     "name": "stdout",
     "output_type": "stream",
     "text": [
      "Sorted list in ascending order: [12, 26, 41, 45, 53, 63]\n"
     ]
    }
   ],
   "source": [
    "#9. Write a Python program to sort a list of integers in ascending order.\n",
    "\n",
    "size = int(input(\"Enter the size of the list: \"))\n",
    "input_list = []\n",
    "for i in range(size):\n",
    "    element = int(input(f\"Enter the {i+1}th element of the list: \"))\n",
    "    input_list.append(element)\n",
    "\n",
    "\n",
    "sorted_list = sorted(input_list)\n",
    "\n",
    "print(\"Sorted list in ascending order:\", sorted_list)"
   ]
  },
  {
   "cell_type": "code",
   "execution_count": 2,
   "id": "b855e6dd-0344-42e0-a2a4-cbdfe83bfc37",
   "metadata": {},
   "outputs": [
    {
     "name": "stdin",
     "output_type": "stream",
     "text": [
      "Enter the size of the list:  4\n",
      "Enter the 1th number:  14\n",
      "Enter the 2th number:  12\n",
      "Enter the 3th number:  45\n",
      "Enter the 4th number:  52\n"
     ]
    },
    {
     "name": "stdout",
     "output_type": "stream",
     "text": [
      "Sum of numbers: 123\n"
     ]
    }
   ],
   "source": [
    "#10. Implement a function to find the sum of all numbers in a list.\n",
    "\n",
    "def sum_of_numbers(input_list):\n",
    "    total = 0\n",
    "    for number in input_list:\n",
    "        total += number\n",
    "    return total\n",
    "\n",
    "size = int(input(\"Enter the size of the list: \"))\n",
    "input_list = []\n",
    "for i in range(size):\n",
    "    number = int(input(f\"Enter the {i+1}th number: \"))\n",
    "    input_list.append(number)\n",
    "\n",
    "result = sum_of_numbers(input_list)\n",
    "print(\"Sum of numbers:\", result)"
   ]
  },
  {
   "cell_type": "code",
   "execution_count": 3,
   "id": "74f7953b-18a8-4651-a294-8b3c6cfa36d2",
   "metadata": {},
   "outputs": [
    {
     "name": "stdout",
     "output_type": "stream",
     "text": [
      "Common elements: [3, 4, 5]\n"
     ]
    }
   ],
   "source": [
    "#11. Write a program to find the common elements between two lists.\n",
    "\n",
    "def find_common_elements(list1, list2):\n",
    "    common_elements = []\n",
    "    for element in list1:\n",
    "        if element in list2:\n",
    "            common_elements.append(element)\n",
    "    return common_elements\n",
    "\n",
    "list1 = [1, 2, 3, 4, 5]\n",
    "list2 = [3, 4, 5, 6, 7]\n",
    "common_elements = find_common_elements(list1, list2)\n",
    "print(\"Common elements:\", common_elements)"
   ]
  },
  {
   "cell_type": "code",
   "execution_count": 5,
   "id": "ee244141-a5e1-45d1-ab5c-75d885234ee9",
   "metadata": {},
   "outputs": [
    {
     "name": "stdin",
     "output_type": "stream",
     "text": [
      "Enter the first string:  abhash\n",
      "Enter the second string:  hsahba\n"
     ]
    },
    {
     "name": "stdout",
     "output_type": "stream",
     "text": [
      "The strings are anagrams.\n"
     ]
    }
   ],
   "source": [
    "#12. Implement a function to check if a given string is an anagram of another string.\n",
    "\n",
    "def is_anagram(string1, string2):\n",
    "    if len(string1) != len(string2):\n",
    "        return False\n",
    "    count = [0] * 26  \n",
    "    for char in string1:\n",
    "        if char.isalpha():\n",
    "            count[ord(char.lower()) - ord('a')] += 1\n",
    "    for char in string2:\n",
    "        if char.isalpha():\n",
    "            count[ord(char.lower()) - ord('a')] -= 1\n",
    "    return all(count[i] == 0 for i in range(26))\n",
    "\n",
    "str1 = input(\"Enter the first string: \")\n",
    "str2 = input(\"Enter the second string: \")\n",
    "\n",
    "if is_anagram(str1, str2):\n",
    "    print(\"The strings are anagrams.\")\n",
    "else:\n",
    "    print(\"The strings are not anagrams.\")"
   ]
  },
  {
   "cell_type": "code",
   "execution_count": 6,
   "id": "9830229a-169d-4eda-ae34-356e686a014b",
   "metadata": {},
   "outputs": [
    {
     "name": "stdin",
     "output_type": "stream",
     "text": [
      "Enter a string:  data\n"
     ]
    },
    {
     "name": "stdout",
     "output_type": "stream",
     "text": [
      "All permutations: 24\n",
      "data\n",
      "daat\n",
      "dtaa\n",
      "dtaa\n",
      "daat\n",
      "data\n",
      "adta\n",
      "adat\n",
      "atda\n",
      "atad\n",
      "aadt\n",
      "aatd\n",
      "tdaa\n",
      "tdaa\n",
      "tada\n",
      "taad\n",
      "tada\n",
      "taad\n",
      "adat\n",
      "adta\n",
      "aadt\n",
      "aatd\n",
      "atda\n",
      "atad\n"
     ]
    }
   ],
   "source": [
    "#13. Write a Python program to generate all permutations of a given string.\n",
    "\n",
    "def permutation_string(string):\n",
    "    if len(string) == 1:\n",
    "        return [string]\n",
    "    permutations = []\n",
    "    for i in range(len(string)):\n",
    "        char = string[i]\n",
    "        remaining_chars = string[:i] + string[i+1:]\n",
    "        for perm in permutation_string(remaining_chars):\n",
    "            permutations.append(char + perm)\n",
    "    return permutations\n",
    "\n",
    "input_string = input(\"Enter a string: \")\n",
    "permutations = permutation_string(input_string)\n",
    "print(\"All permutations:\", len(permutations))\n",
    "for perm in permutations:\n",
    "    print(perm)"
   ]
  },
  {
   "cell_type": "code",
   "execution_count": 7,
   "id": "37016ece-3b67-431f-8956-71ea6e642c01",
   "metadata": {},
   "outputs": [
    {
     "name": "stdin",
     "output_type": "stream",
     "text": [
      "Enter the number of terms:  5\n"
     ]
    },
    {
     "name": "stdout",
     "output_type": "stream",
     "text": [
      "Fibonacci series:\n",
      "[0, 1, 1, 2, 3]\n"
     ]
    }
   ],
   "source": [
    "#14. Implement a function to calculate the Fibonacci sequence up to a given number of terms.\n",
    "\n",
    "def fibonacci(n):\n",
    "    if n <= 0:\n",
    "        return []\n",
    "    elif n == 1:\n",
    "        return [0]\n",
    "    elif n == 2:\n",
    "        return [0, 1]\n",
    "    else:\n",
    "        series = fibonacci(n - 1)\n",
    "        next_num = series[-1] + series[-2]\n",
    "        series.append(next_num)\n",
    "        return series\n",
    "\n",
    "\n",
    "num = int(input(\"Enter the number of terms: \"))\n",
    "fibonacci_series = fibonacci(num)\n",
    "print(\"Fibonacci series:\")\n",
    "print(fibonacci_series)"
   ]
  },
  {
   "cell_type": "code",
   "execution_count": 8,
   "id": "95df13d9-3060-4f29-85d2-e72ab0281d08",
   "metadata": {},
   "outputs": [
    {
     "name": "stdin",
     "output_type": "stream",
     "text": [
      "Enter the size of the list:  7\n",
      "Enter the 1th number:  12\n",
      "Enter the 2th number:  13\n",
      "Enter the 3th number:  14\n",
      "Enter the 4th number:  15\n",
      "Enter the 5th number:  16\n",
      "Enter the 6th number:  17\n",
      "Enter the 7th number:  18\n"
     ]
    },
    {
     "name": "stdout",
     "output_type": "stream",
     "text": [
      "Median: 15.0\n"
     ]
    }
   ],
   "source": [
    "#15. Write a program to find the median of a list of numbers.\n",
    "\n",
    "def find_median(numbers):\n",
    "    sorted_numbers = sorted(numbers)\n",
    "    n = len(sorted_numbers)\n",
    "    if n % 2 == 0:\n",
    "        mid1 = n // 2\n",
    "        mid2 = mid1 - 1\n",
    "        median = (sorted_numbers[mid1] + sorted_numbers[mid2]) / 2\n",
    "    else:\n",
    "        mid = n // 2\n",
    "        median = sorted_numbers[mid]\n",
    "    return median\n",
    "\n",
    "size = int(input(\"Enter the size of the list: \"))\n",
    "number_list = []\n",
    "for i in range(size):\n",
    "    number = float(input(f\"Enter the {i+1}th number: \"))\n",
    "    number_list.append(number)\n",
    "\n",
    "median_value = find_median(number_list)\n",
    "print(\"Median:\", median_value)"
   ]
  },
  {
   "cell_type": "code",
   "execution_count": 9,
   "id": "87f3e363-80e5-414a-b100-1b150d8f9fc2",
   "metadata": {},
   "outputs": [
    {
     "name": "stdin",
     "output_type": "stream",
     "text": [
      "Enter the size of the list:  5\n",
      "Enter the 1th number:  23\n",
      "Enter the 2th number:  22\n",
      "Enter the 3th number:  21\n",
      "Enter the 4th number:  25\n",
      "Enter the 5th number:  26\n"
     ]
    },
    {
     "name": "stdout",
     "output_type": "stream",
     "text": [
      "The list is not sorted in non-decreasing order.\n"
     ]
    }
   ],
   "source": [
    "#16. Implement a function to check if a given list is sorted in non-decreasing order.\n",
    "\n",
    "def is_sorted(numbers):\n",
    "    n = len(numbers)\n",
    "    if n <= 1:\n",
    "        return True\n",
    "    for i in range(1, n):\n",
    "        if numbers[i] < numbers[i-1]:\n",
    "            return False\n",
    "    return True\n",
    "\n",
    "size = int(input(\"Enter the size of the list: \"))\n",
    "number_list = []\n",
    "for i in range(size):\n",
    "    number = int(input(f\"Enter the {i+1}th number: \"))\n",
    "    number_list.append(number)\n",
    "\n",
    "if is_sorted(number_list):\n",
    "    print(\"The list is sorted in non-decreasing order.\")\n",
    "else:\n",
    "    print(\"The list is not sorted in non-decreasing order.\")"
   ]
  },
  {
   "cell_type": "code",
   "execution_count": 10,
   "id": "d02d52e1-8bb8-4a01-982e-d7b1622b20db",
   "metadata": {},
   "outputs": [
    {
     "name": "stdout",
     "output_type": "stream",
     "text": [
      "Intersection of the two lists: [4, 5]\n"
     ]
    }
   ],
   "source": [
    "#17. Write a Python program to find the intersection of two lists.\n",
    "\n",
    "def find_intersection(list1, list2):\n",
    "\n",
    "    set1 = set(list1)\n",
    "    set2 = set(list2)\n",
    "    \n",
    "    intersection = set1.intersection(set2)\n",
    "    \n",
    "    intersection_list = list(intersection)\n",
    "    \n",
    "    return intersection_list\n",
    "\n",
    "list1 = [1, 2, 3, 4, 5]\n",
    "list2 = [4, 5, 6, 7, 8]\n",
    "\n",
    "intersection = find_intersection(list1, list2)\n",
    "\n",
    "print(\"Intersection of the two lists:\", intersection)"
   ]
  },
  {
   "cell_type": "code",
   "execution_count": 11,
   "id": "697157f4-cbc3-47e3-8bbd-80760d7e637a",
   "metadata": {},
   "outputs": [
    {
     "name": "stdin",
     "output_type": "stream",
     "text": [
      "Enter the size of the list:  3\n",
      "Enter element 1:  11\n",
      "Enter element 2:  12\n",
      "Enter element 3:  13\n"
     ]
    },
    {
     "name": "stdout",
     "output_type": "stream",
     "text": [
      "Maximum subarray sum: 36\n"
     ]
    }
   ],
   "source": [
    "#18. Implement a function to find the maximum subarray sum in a given list.\n",
    "\n",
    "def find_max_subarray_sum(nums):\n",
    "    if not nums:\n",
    "        return 0\n",
    "\n",
    "    current_sum = max_sum = nums[0]\n",
    "\n",
    "    for i in range(1, len(nums)):\n",
    "        current_sum = max(nums[i], current_sum + nums[i])\n",
    "        max_sum = max(max_sum, current_sum)\n",
    "\n",
    "    return max_sum\n",
    "\n",
    "size = int(input(\"Enter the size of the list: \"))\n",
    "nums = []\n",
    "for i in range(size):\n",
    "    num = int(input(f\"Enter element {i+1}: \"))\n",
    "    nums.append(num)\n",
    "\n",
    "max_sum = find_max_subarray_sum(nums)\n",
    "print(\"Maximum subarray sum:\", max_sum)"
   ]
  },
  {
   "cell_type": "code",
   "execution_count": 12,
   "id": "e7497d2d-b5b0-41cd-8336-d1a90115cbc8",
   "metadata": {},
   "outputs": [
    {
     "name": "stdin",
     "output_type": "stream",
     "text": [
      "Enter a string:  data science\n"
     ]
    },
    {
     "name": "stdout",
     "output_type": "stream",
     "text": [
      "String without vowels: dt scnc\n"
     ]
    }
   ],
   "source": [
    "#19. Write a program to remove all vowels from a given string.\n",
    "\n",
    "def remove_vowels(string):\n",
    "    vowels = ['a', 'e', 'i', 'o', 'u', 'A', 'E', 'I', 'O', 'U']\n",
    "    result = \"\"\n",
    "    for char in string:\n",
    "        if char not in vowels:\n",
    "            result += char\n",
    "    return result\n",
    "\n",
    "input_string = input(\"Enter a string: \")\n",
    "string_without_vowels = remove_vowels(input_string)\n",
    "print(\"String without vowels:\", string_without_vowels)"
   ]
  },
  {
   "cell_type": "code",
   "execution_count": 13,
   "id": "3af165a1-b205-4963-bcbf-781de6472410",
   "metadata": {},
   "outputs": [
    {
     "name": "stdin",
     "output_type": "stream",
     "text": [
      "Enter a sentence:  i am 21 years old\n"
     ]
    },
    {
     "name": "stdout",
     "output_type": "stream",
     "text": [
      "Reversed sentence: old years 21 am i\n"
     ]
    }
   ],
   "source": [
    "#20. Implement a function to reverse the order of words in a given sentence.\n",
    "\n",
    "def reverse_sentence(sentence):\n",
    "    words = sentence.split()\n",
    "    reversed_words = words[::-1]\n",
    "    reversed_sentence = ' '.join(reversed_words)\n",
    "    return reversed_sentence\n",
    "\n",
    "input_sentence = input(\"Enter a sentence: \")\n",
    "reversed_sentence = reverse_sentence(input_sentence)\n",
    "print(\"Reversed sentence:\", reversed_sentence)"
   ]
  },
  {
   "cell_type": "code",
   "execution_count": 15,
   "id": "fc2ac9b8-86f4-492f-a378-bb9ee612d371",
   "metadata": {},
   "outputs": [
    {
     "name": "stdin",
     "output_type": "stream",
     "text": [
      "Enter the first string:  data\n",
      "Enter the second string:  atad\n"
     ]
    },
    {
     "name": "stdout",
     "output_type": "stream",
     "text": [
      "The two strings are anagrams.\n"
     ]
    }
   ],
   "source": [
    "#21. Write a Python program to check if two strings are anagrams of each other.\n",
    "\n",
    "def check_anagrams(str1, str2):\n",
    "\n",
    "    str1 = str1.lower().replace(\" \", \"\")\n",
    "    str2 = str2.lower().replace(\" \", \"\")\n",
    "    \n",
    "    sorted_str1 = sorted(str1)\n",
    "    sorted_str2 = sorted(str2)    \n",
    "\n",
    "    if sorted_str1 == sorted_str2:\n",
    "        return True\n",
    "    else:\n",
    "        return False\n",
    "\n",
    "input_str1 = input(\"Enter the first string: \")\n",
    "input_str2 = input(\"Enter the second string: \")\n",
    "\n",
    "if check_anagrams(input_str1, input_str2):\n",
    "    print(\"The two strings are anagrams.\")\n",
    "else:\n",
    "    print(\"The two strings are not anagrams.\")"
   ]
  },
  {
   "cell_type": "code",
   "execution_count": 16,
   "id": "ed19d767-6710-4397-8716-10aca903a7cf",
   "metadata": {},
   "outputs": [
    {
     "name": "stdin",
     "output_type": "stream",
     "text": [
      "Enter a string:  full stack\n"
     ]
    },
    {
     "name": "stdout",
     "output_type": "stream",
     "text": [
      "First non-repeating character: f\n"
     ]
    }
   ],
   "source": [
    "#22. Implement a function to find the first non-repeating character in a string.\n",
    "\n",
    "def find_first_non_repeating_char(string):\n",
    "    char_count = {}\n",
    "    \n",
    "    for char in string:\n",
    "        if char in char_count:\n",
    "            char_count[char] += 1\n",
    "        else:\n",
    "            char_count[char] = 1\n",
    "    \n",
    "    for char in string:\n",
    "        if char_count[char] == 1:\n",
    "            return char\n",
    "    \n",
    "    return None\n",
    "\n",
    "input_string = input(\"Enter a string: \")\n",
    "first_non_repeating_char = find_first_non_repeating_char(input_string)\n",
    "\n",
    "if first_non_repeating_char:\n",
    "    print(\"First non-repeating character:\", first_non_repeating_char)\n",
    "else:\n",
    "    print(\"No non-repeating character found.\")"
   ]
  },
  {
   "cell_type": "code",
   "execution_count": 17,
   "id": "c3e18c91-bae6-49bc-90ea-4b634198089c",
   "metadata": {},
   "outputs": [
    {
     "name": "stdin",
     "output_type": "stream",
     "text": [
      "Enter a number:  20\n"
     ]
    },
    {
     "name": "stdout",
     "output_type": "stream",
     "text": [
      "Prime factors: [2, 2, 5]\n"
     ]
    }
   ],
   "source": [
    "#23. Write a program to find the prime factors of a given number.\n",
    "\n",
    "def find_prime_factors(number):\n",
    "    prime_factors = []\n",
    "    divisor = 2\n",
    "    \n",
    "    while divisor <= number:\n",
    "        if number % divisor == 0:\n",
    "            prime_factors.append(divisor)\n",
    "            number //= divisor\n",
    "        else:\n",
    "            divisor += 1\n",
    "    \n",
    "    return prime_factors\n",
    "\n",
    "input_number = int(input(\"Enter a number: \"))\n",
    "prime_factors = find_prime_factors(input_number)\n",
    "print(\"Prime factors:\", prime_factors)"
   ]
  },
  {
   "cell_type": "code",
   "execution_count": 19,
   "id": "af9f025c-8a2e-4c93-9521-3f0899c5ecf1",
   "metadata": {},
   "outputs": [
    {
     "name": "stdin",
     "output_type": "stream",
     "text": [
      "Enter a number:  4\n"
     ]
    },
    {
     "name": "stdout",
     "output_type": "stream",
     "text": [
      "The number is a power of two.\n"
     ]
    }
   ],
   "source": [
    "#24. Implement a function to check if a given number is a power of two.\n",
    "\n",
    "def is_power_of_two(number):\n",
    "    if number <= 0:\n",
    "        return False\n",
    "\n",
    "    while number > 1:\n",
    "        if number % 2 != 0:\n",
    "            return False\n",
    "        number = number // 2\n",
    "\n",
    "    return True\n",
    "\n",
    "input_number = int(input(\"Enter a number: \"))\n",
    "if is_power_of_two(input_number):\n",
    "    print(\"The number is a power of two.\")\n",
    "else:\n",
    "    print(\"The number is not a power of two.\")"
   ]
  },
  {
   "cell_type": "code",
   "execution_count": 20,
   "id": "0cb6a425-ac0d-48bf-a31e-d01215157cc5",
   "metadata": {},
   "outputs": [
    {
     "name": "stdin",
     "output_type": "stream",
     "text": [
      "Enter the elements of the first sorted list (space-separated):  1 2 3 4 5\n",
      "Enter the elements of the second sorted list (space-separated):  4 5 6 7 8\n"
     ]
    },
    {
     "name": "stdout",
     "output_type": "stream",
     "text": [
      "Merged list: [1, 2, 3, 4, 4, 5, 5, 6, 7, 8]\n"
     ]
    }
   ],
   "source": [
    "#25. Write a Python program to merge two sorted lists into a single sorted list.\n",
    "\n",
    "def merge_sorted_lists(list1, list2):\n",
    "    merged_list = []\n",
    "    i = j = 0\n",
    "\n",
    "    while i < len(list1) and j < len(list2):\n",
    "        if list1[i] <= list2[j]:\n",
    "            merged_list.append(list1[i])\n",
    "            i += 1\n",
    "        else:\n",
    "            merged_list.append(list2[j])\n",
    "            j += 1\n",
    "\n",
    "    while i < len(list1):\n",
    "        merged_list.append(list1[i])\n",
    "        i += 1\n",
    "\n",
    "    while j < len(list2):\n",
    "        merged_list.append(list2[j])\n",
    "        j += 1\n",
    "\n",
    "    return merged_list\n",
    "\n",
    "# Example usage\n",
    "list1 = input(\"Enter the elements of the first sorted list (space-separated): \").split()\n",
    "list2 = input(\"Enter the elements of the second sorted list (space-separated): \").split()\n",
    "\n",
    "list1 = [int(num) for num in list1]\n",
    "list2 = [int(num) for num in list2]\n",
    "\n",
    "merged_list = merge_sorted_lists(list1, list2)\n",
    "print(\"Merged list:\", merged_list)"
   ]
  },
  {
   "cell_type": "code",
   "execution_count": 1,
   "id": "e7bdf048-33ba-49d4-beed-1c71cd2650cb",
   "metadata": {},
   "outputs": [
    {
     "name": "stdin",
     "output_type": "stream",
     "text": [
      "Enter the numbers (space-separated):  1 2 3 4 4 5 2 6 1\n"
     ]
    },
    {
     "name": "stdout",
     "output_type": "stream",
     "text": [
      "Mode(s): [1, 2, 4]\n"
     ]
    }
   ],
   "source": [
    "#26. Implement a function to find the mode of a list of numbers.\n",
    "\n",
    "from collections import Counter\n",
    "\n",
    "def find_mode(numbers):\n",
    "\n",
    "    count = Counter(numbers)\n",
    "    \n",
    "    max_count = max(count.values())\n",
    "    mode = [num for num, freq in count.items() if freq == max_count]\n",
    "    \n",
    "    return mode\n",
    "\n",
    "input_numbers = input(\"Enter the numbers (space-separated): \").split()\n",
    "numbers = [int(num) for num in input_numbers]\n",
    "\n",
    "modes = find_mode(numbers)\n",
    "print(\"Mode(s):\", modes)"
   ]
  },
  {
   "cell_type": "code",
   "execution_count": 2,
   "id": "97df0fb4-4cc4-4a0e-81a9-ecb5e11e76bd",
   "metadata": {},
   "outputs": [
    {
     "name": "stdin",
     "output_type": "stream",
     "text": [
      "Enter the first number:  5\n",
      "Enter the second number:  6\n"
     ]
    },
    {
     "name": "stdout",
     "output_type": "stream",
     "text": [
      "GCD: 1\n"
     ]
    }
   ],
   "source": [
    "#27. Write a program to find the greatest common divisor (GCD) of two numbers.\n",
    "\n",
    "def find_gcd(a, b):\n",
    "    while b != 0:\n",
    "        a, b = b, a % b\n",
    "    return a\n",
    "\n",
    "num1 = int(input(\"Enter the first number: \"))\n",
    "num2 = int(input(\"Enter the second number: \"))\n",
    "\n",
    "gcd = find_gcd(num1, num2)\n",
    "print(\"GCD:\", gcd)"
   ]
  },
  {
   "cell_type": "code",
   "execution_count": 3,
   "id": "a56ae78c-fded-4394-a8ef-1b9f3c57f599",
   "metadata": {},
   "outputs": [
    {
     "name": "stdout",
     "output_type": "stream",
     "text": [
      "4.0\n"
     ]
    }
   ],
   "source": [
    "#28. Implement a function to calculate the square root of a given number.\n",
    "\n",
    "def countSquares(x):\n",
    "    sqrt = x**0.5\n",
    "    result = float(sqrt)\n",
    "    return result\n",
    "\n",
    "\n",
    "x = 16\n",
    "print(countSquares(x))"
   ]
  },
  {
   "cell_type": "code",
   "execution_count": 8,
   "id": "092b137d-07b8-424c-a02b-4889a3901426",
   "metadata": {},
   "outputs": [
    {
     "name": "stdin",
     "output_type": "stream",
     "text": [
      "Enter a string:  abba\n"
     ]
    },
    {
     "name": "stdout",
     "output_type": "stream",
     "text": [
      "The string is a valid palindrome.\n"
     ]
    }
   ],
   "source": [
    "#29. Write a Python program to check if a given string is a valid palindrome ignoring non-alphanumeric characters.\n",
    "\n",
    "def is_valid_palindrome(string):\n",
    "    alphanumeric_string = \"\"\n",
    "\n",
    "    for char in string:\n",
    "        if char.isalnum():\n",
    "            alphanumeric_string += char.lower()\n",
    "\n",
    "    return alphanumeric_string == alphanumeric_string[::-1]\n",
    "\n",
    "input_string = input(\"Enter a string: \")\n",
    "if is_valid_palindrome(input_string):\n",
    "    print(\"The string is a valid palindrome.\")\n",
    "else:\n",
    "    print(\"The string is not a valid palindrome.\")"
   ]
  },
  {
   "cell_type": "code",
   "execution_count": 9,
   "id": "6d6b2e78-f70e-42c5-84ff-a10d46092ecb",
   "metadata": {},
   "outputs": [
    {
     "name": "stdin",
     "output_type": "stream",
     "text": [
      "Enter the elements of the list (space-separated):  1 3 4 3 1\n"
     ]
    },
    {
     "name": "stdout",
     "output_type": "stream",
     "text": [
      "Minimum element: 1\n"
     ]
    }
   ],
   "source": [
    "#30. Implement a function to find the minimum element in a rotated sorted list.\n",
    "\n",
    "def find_minimum(nums):\n",
    "    sorted_nums = sorted(nums)\n",
    "    return sorted_nums[0]\n",
    "\n",
    "input_nums = input(\"Enter the elements of the list (space-separated): \").split()\n",
    "nums = [int(num) for num in input_nums]\n",
    "\n",
    "minimum = find_minimum(nums)\n",
    "print(\"Minimum element:\", minimum)"
   ]
  },
  {
   "cell_type": "code",
   "execution_count": 10,
   "id": "2e5508fd-be40-412f-a1f2-aa4421765374",
   "metadata": {},
   "outputs": [
    {
     "name": "stdin",
     "output_type": "stream",
     "text": [
      "Enter the elements of the list (space-separated):  1 2 3 4 5 6 8 9\n"
     ]
    },
    {
     "name": "stdout",
     "output_type": "stream",
     "text": [
      "Sum of even numbers: 20\n"
     ]
    }
   ],
   "source": [
    "#31. Write a program to find the sum of all even numbers in a list.\n",
    "\n",
    "def sum_of_even_numbers(numbers):\n",
    "    sum_even = 0\n",
    "    for number in numbers:\n",
    "        if number % 2 == 0:\n",
    "            sum_even += number\n",
    "    return sum_even\n",
    "\n",
    "input_numbers = input(\"Enter the elements of the list (space-separated): \").split()\n",
    "numbers = [int(num) for num in input_numbers]\n",
    "\n",
    "sum_even = sum_of_even_numbers(numbers)\n",
    "print(\"Sum of even numbers:\", sum_even)"
   ]
  },
  {
   "cell_type": "code",
   "execution_count": 11,
   "id": "232ab78b-95d6-4e09-98ba-a9ac0d6b963e",
   "metadata": {},
   "outputs": [
    {
     "name": "stdin",
     "output_type": "stream",
     "text": [
      "Enter the base:  2\n",
      "Enter the exponent:  4\n"
     ]
    },
    {
     "name": "stdout",
     "output_type": "stream",
     "text": [
      "Result: 16.0\n"
     ]
    }
   ],
   "source": [
    "#32. Implement a function to calculate the power of a number using recursion.\n",
    "\n",
    "def power(base, exponent):\n",
    "    if exponent == 0:\n",
    "        return 1\n",
    "    elif exponent < 0:\n",
    "        return 1 / power(base, -exponent)\n",
    "    else:\n",
    "        return base * power(base, exponent - 1)\n",
    "\n",
    "base = float(input(\"Enter the base: \"))\n",
    "exponent = int(input(\"Enter the exponent: \"))\n",
    "\n",
    "result = power(base, exponent)\n",
    "print(\"Result:\", result)"
   ]
  },
  {
   "cell_type": "code",
   "execution_count": 12,
   "id": "c5cd8fec-8bb1-4c6d-98a8-b0939e0ca24f",
   "metadata": {},
   "outputs": [
    {
     "name": "stdin",
     "output_type": "stream",
     "text": [
      "Enter the elements of the list (space-separated):  1 3 4 63 8 63 4 8 \n"
     ]
    },
    {
     "name": "stdout",
     "output_type": "stream",
     "text": [
      "List with duplicates removed: [1, 3, 4, 63, 8]\n"
     ]
    }
   ],
   "source": [
    "#33. Write a Python program to remove duplicates from a list while preserving the order.\n",
    "\n",
    "def remove_duplicates(lst):\n",
    "    seen = set()\n",
    "    result = []\n",
    "    for item in lst:\n",
    "        if item not in seen:\n",
    "            seen.add(item)\n",
    "            result.append(item)\n",
    "    return result\n",
    "\n",
    "input_list = input(\"Enter the elements of the list (space-separated): \").split()\n",
    "lst = [int(item) for item in input_list]\n",
    "\n",
    "unique_list = remove_duplicates(lst)\n",
    "print(\"List with duplicates removed:\", unique_list)"
   ]
  },
  {
   "cell_type": "code",
   "execution_count": 14,
   "id": "c56fe8d9-92fc-4a3d-ad58-e98640f81663",
   "metadata": {},
   "outputs": [
    {
     "name": "stdin",
     "output_type": "stream",
     "text": [
      "Enter the strings (space-separated):  cat camel\n"
     ]
    },
    {
     "name": "stdout",
     "output_type": "stream",
     "text": [
      "Longest common prefix: ca\n"
     ]
    }
   ],
   "source": [
    "#34. Implement a function to find the longest common prefix among a list of strings.\n",
    "\n",
    "def longest_common_prefix(strs):\n",
    "    if not strs:\n",
    "        return \"\"\n",
    "\n",
    "    min_length = min(len(s) for s in strs)\n",
    "\n",
    "    prefix = \"\"\n",
    "    for i in range(min_length):\n",
    "\n",
    "        char = strs[0][i]\n",
    "\n",
    "        if all(s[i] == char for s in strs):\n",
    "            prefix += char\n",
    "        else:\n",
    "\n",
    "            break\n",
    "\n",
    "    return prefix\n",
    "\n",
    "input_strs = input(\"Enter the strings (space-separated): \").split()\n",
    "\n",
    "common_prefix = longest_common_prefix(input_strs)\n",
    "print(\"Longest common prefix:\", common_prefix)"
   ]
  },
  {
   "cell_type": "code",
   "execution_count": 15,
   "id": "df3ec35e-6e04-4204-a91f-bbe603f8114d",
   "metadata": {},
   "outputs": [
    {
     "name": "stdin",
     "output_type": "stream",
     "text": [
      "Enter a number:  81\n"
     ]
    },
    {
     "name": "stdout",
     "output_type": "stream",
     "text": [
      "The number is a perfect square.\n"
     ]
    }
   ],
   "source": [
    "#35. Write a program to check if a given number is a perfect square.\n",
    "\n",
    "def is_perfect_square(num):\n",
    "    if num < 0:\n",
    "        return False\n",
    "\n",
    "    i = 0\n",
    "    while i * i <= num:\n",
    "        if i * i == num:\n",
    "            return True\n",
    "        i += 1\n",
    "\n",
    "    return False\n",
    "\n",
    "number = int(input(\"Enter a number: \"))\n",
    "\n",
    "if is_perfect_square(number):\n",
    "    print(\"The number is a perfect square.\")\n",
    "else:\n",
    "    print(\"The number is not a perfect square.\")"
   ]
  },
  {
   "cell_type": "code",
   "execution_count": 17,
   "id": "026f5821-ed7f-456e-baf9-320cefd15949",
   "metadata": {},
   "outputs": [
    {
     "name": "stdin",
     "output_type": "stream",
     "text": [
      "Enter the elements of the list (space-separated):  4 5 6 3 2 1\n"
     ]
    },
    {
     "name": "stdout",
     "output_type": "stream",
     "text": [
      "Product of all elements: 720\n"
     ]
    }
   ],
   "source": [
    "#36. Implement a function to calculate the product of all elements in a list.\n",
    "\n",
    "def calculate_product(numbers):\n",
    "    product = 1\n",
    "    for number in numbers:\n",
    "        product *= number\n",
    "    return product\n",
    "\n",
    "input_numbers = input(\"Enter the elements of the list (space-separated): \").split()\n",
    "numbers = [int(num) for num in input_numbers]\n",
    "\n",
    "result = calculate_product(numbers)\n",
    "print(\"Product of all elements:\", result)"
   ]
  },
  {
   "cell_type": "code",
   "execution_count": 18,
   "id": "8f632b0e-79ad-46b8-878c-4ed0471fad8e",
   "metadata": {},
   "outputs": [
    {
     "name": "stdin",
     "output_type": "stream",
     "text": [
      "Enter a sentence:  hello python\n"
     ]
    },
    {
     "name": "stdout",
     "output_type": "stream",
     "text": [
      "Reversed sentence: python hello\n"
     ]
    }
   ],
   "source": [
    "#37. Write a Python program to reverse the order of words in a sentence while preserving the word order.\n",
    "\n",
    "def reverse_words(sentence):\n",
    "    words = sentence.split()\n",
    "    reversed_words = words[::-1]\n",
    "    reversed_sentence = ' '.join(reversed_words)\n",
    "    return reversed_sentence\n",
    "\n",
    "input_sentence = input(\"Enter a sentence: \")\n",
    "\n",
    "reversed_sentence = reverse_words(input_sentence)\n",
    "print(\"Reversed sentence:\", reversed_sentence)"
   ]
  },
  {
   "cell_type": "code",
   "execution_count": 22,
   "id": "3410a213-1c3b-4cdc-a2a3-ec38be74f3b4",
   "metadata": {},
   "outputs": [
    {
     "name": "stdin",
     "output_type": "stream",
     "text": [
      "Enter the consecutive numbers 1 2 3 4 5 6 8\n"
     ]
    },
    {
     "name": "stdout",
     "output_type": "stream",
     "text": [
      "Missing number: 7\n"
     ]
    }
   ],
   "source": [
    "#38. Implement a function to find the missing number in a given list of consecutive numbers.\n",
    "\n",
    "def find_missing_number(numbers):\n",
    "    n = len(numbers) + 1\n",
    "    expected_sum = n * (n + 1) // 2\n",
    "    actual_sum = sum(numbers)\n",
    "    missing_number = expected_sum - actual_sum\n",
    "    return missing_number\n",
    "\n",
    "input_numbers = input(\"Enter the consecutive numbers\").split()\n",
    "numbers = [int(num) for num in input_numbers]\n",
    "\n",
    "missing_number = find_missing_number(numbers)\n",
    "print(\"Missing number:\", missing_number)"
   ]
  },
  {
   "cell_type": "code",
   "execution_count": 23,
   "id": "a366070b-665c-4b31-a5ae-3f51f637fa7c",
   "metadata": {},
   "outputs": [
    {
     "name": "stdin",
     "output_type": "stream",
     "text": [
      "Enter a number:  456\n"
     ]
    },
    {
     "name": "stdout",
     "output_type": "stream",
     "text": [
      "Sum of digits: 15\n"
     ]
    }
   ],
   "source": [
    "#39. Write a program to find the sum of digits of a given number.\n",
    "\n",
    "def sum_of_digits(number):\n",
    "    sum = 0\n",
    "    while number > 0:\n",
    "        digit = number % 10\n",
    "        sum += digit\n",
    "        number //= 10\n",
    "    return sum\n",
    "\n",
    "number = int(input(\"Enter a number: \"))\n",
    "\n",
    "digit_sum = sum_of_digits(number)\n",
    "print(\"Sum of digits:\", digit_sum)"
   ]
  },
  {
   "cell_type": "code",
   "execution_count": 25,
   "id": "82181dd9-3e67-4b9c-996f-fb614261a6ea",
   "metadata": {},
   "outputs": [
    {
     "name": "stdin",
     "output_type": "stream",
     "text": [
      "Enter a string:  ineuron\n"
     ]
    },
    {
     "name": "stdout",
     "output_type": "stream",
     "text": [
      "The string is not a valid palindrome.\n"
     ]
    }
   ],
   "source": [
    "#40. Implement a function to check if a given string is a valid palindrome considering case sensitivity.\n",
    "\n",
    "def is_valid_palindrome(string):\n",
    "    cleaned_string = ''.join(char for char in string if char.isalnum())\n",
    "    return cleaned_string == cleaned_string[::-1]\n",
    "\n",
    "# Example usage\n",
    "input_string = input(\"Enter a string: \")\n",
    "\n",
    "if is_valid_palindrome(input_string):\n",
    "    print(\"The string is a valid palindrome.\")\n",
    "else:\n",
    "    print(\"The string is not a valid palindrome.\")"
   ]
  },
  {
   "cell_type": "code",
   "execution_count": 26,
   "id": "852b64c2-48a1-4fe7-94b3-6e4a7548e054",
   "metadata": {},
   "outputs": [
    {
     "name": "stdin",
     "output_type": "stream",
     "text": [
      "Enter the numbers (space-separated):  1 2 3 5 -6\n"
     ]
    },
    {
     "name": "stdout",
     "output_type": "stream",
     "text": [
      "Smallest missing positive integer: 4\n"
     ]
    }
   ],
   "source": [
    "#41. Write a Python program to find the smallest missing positive integer in a list.\n",
    "\n",
    "def smallest_missing_positive(numbers):\n",
    "\n",
    "    positive_numbers = [num for num in numbers if num > 0]\n",
    "\n",
    "    if 1 not in positive_numbers:\n",
    "        return 1\n",
    "\n",
    "    unique_numbers = set(positive_numbers)\n",
    "\n",
    "    current_number = 2\n",
    "    while current_number in unique_numbers:\n",
    "        current_number += 1\n",
    "\n",
    "    return current_number\n",
    "\n",
    "\n",
    "input_numbers = input(\"Enter the numbers (space-separated): \").split()\n",
    "numbers = [int(num) for num in input_numbers]\n",
    "\n",
    "smallest_missing = smallest_missing_positive(numbers)\n",
    "print(\"Smallest missing positive integer:\", smallest_missing)"
   ]
  },
  {
   "cell_type": "code",
   "execution_count": 27,
   "id": "0fcef658-7dd4-4327-8666-997c865f7d64",
   "metadata": {},
   "outputs": [
    {
     "name": "stdin",
     "output_type": "stream",
     "text": [
      "Enter a string:  hello world\n"
     ]
    },
    {
     "name": "stdout",
     "output_type": "stream",
     "text": [
      "Longest palindrome substring: ll\n"
     ]
    }
   ],
   "source": [
    "#42. Implement a function to find the longest palindrome substring in a given string.\n",
    "\n",
    "def longest_palindrome(s):\n",
    "    longest = ''\n",
    "    for i in range(len(s)):\n",
    "\n",
    "        left = right = i\n",
    "        while left >= 0 and right < len(s) and s[left] == s[right]:\n",
    "            left -= 1\n",
    "            right += 1\n",
    "        palindrome_odd = s[left + 1 : right]\n",
    "\n",
    "        left = i\n",
    "        right = i + 1\n",
    "        while left >= 0 and right < len(s) and s[left] == s[right]:\n",
    "            left -= 1\n",
    "            right += 1\n",
    "        palindrome_even = s[left + 1 : right]\n",
    "\n",
    "        if len(palindrome_odd) > len(longest):\n",
    "            longest = palindrome_odd\n",
    "        if len(palindrome_even) > len(longest):\n",
    "            longest = palindrome_even\n",
    "\n",
    "    return longest\n",
    "\n",
    "input_string = input(\"Enter a string: \")\n",
    "\n",
    "result = longest_palindrome(input_string)\n",
    "print(\"Longest palindrome substring:\", result)"
   ]
  },
  {
   "cell_type": "code",
   "execution_count": 29,
   "id": "d0883e40-21a7-4d38-9bbb-5d6b623c647d",
   "metadata": {},
   "outputs": [
    {
     "name": "stdin",
     "output_type": "stream",
     "text": [
      "Enter the numbers 1453\n",
      "Enter the element to count:  5\n"
     ]
    },
    {
     "name": "stdout",
     "output_type": "stream",
     "text": [
      "Number of occurrences of 5: 0\n"
     ]
    }
   ],
   "source": [
    "#43. Write a program to find the number of occurrences of a given element in a list.\n",
    "\n",
    "def count_occurrences(numbers, element):\n",
    "    count = 0\n",
    "    for num in numbers:\n",
    "        if num == element:\n",
    "            count += 1\n",
    "    return count\n",
    "\n",
    "input_numbers = input(\"Enter the numbers\").split()\n",
    "numbers = [int(num) for num in input_numbers]\n",
    "\n",
    "element = int(input(\"Enter the element to count: \"))\n",
    "\n",
    "occurrences = count_occurrences(numbers, element)\n",
    "print(f\"Number of occurrences of {element}: {occurrences}\")"
   ]
  },
  {
   "cell_type": "code",
   "execution_count": 30,
   "id": "620b941f-9939-4a0f-bfd9-cff236214b0f",
   "metadata": {},
   "outputs": [
    {
     "name": "stdin",
     "output_type": "stream",
     "text": [
      "Enter a number:  14\n"
     ]
    },
    {
     "name": "stdout",
     "output_type": "stream",
     "text": [
      "The number is not a perfect number.\n"
     ]
    }
   ],
   "source": [
    "#44. Implement a function to check if a given number is a perfect number.\n",
    "\n",
    "def is_perfect_number(number):\n",
    "    if number <= 0:\n",
    "        return False\n",
    "\n",
    "    divisor_sum = sum(i for i in range(1, number) if number % i == 0)\n",
    "\n",
    "    return divisor_sum == number\n",
    "\n",
    "input_number = int(input(\"Enter a number: \"))\n",
    "\n",
    "if is_perfect_number(input_number):\n",
    "    print(\"The number is a perfect number.\")\n",
    "else:\n",
    "    print(\"The number is not a perfect number.\")"
   ]
  },
  {
   "cell_type": "code",
   "execution_count": 31,
   "id": "bff2ee1e-8d9f-4833-909c-814fadf7905b",
   "metadata": {},
   "outputs": [
    {
     "name": "stdin",
     "output_type": "stream",
     "text": [
      "Enter a string:  data science 2.o\n"
     ]
    },
    {
     "name": "stdout",
     "output_type": "stream",
     "text": [
      "String after removing duplicates: dat scien2.o\n"
     ]
    }
   ],
   "source": [
    "#45. Write a Python program to remove all duplicates from a string.\n",
    "\n",
    "def remove_duplicates(string):\n",
    "    unique_chars = []\n",
    "    result = \"\"\n",
    "\n",
    "    for char in string:\n",
    "        if char not in unique_chars:\n",
    "            unique_chars.append(char)\n",
    "            result += char\n",
    "\n",
    "    return result\n",
    "\n",
    "# Example usage\n",
    "input_string = input(\"Enter a string: \")\n",
    "\n",
    "result = remove_duplicates(input_string)\n",
    "print(\"String after removing duplicates:\", result)"
   ]
  },
  {
   "cell_type": "code",
   "execution_count": 32,
   "id": "a1e7718e-6c49-4cdc-8f00-def59400fe79",
   "metadata": {},
   "outputs": [
    {
     "name": "stdin",
     "output_type": "stream",
     "text": [
      "Enter the numbers (space-separated):  4 3 6 8 9\n"
     ]
    },
    {
     "name": "stdout",
     "output_type": "stream",
     "text": [
      "First missing positive integer: 1\n"
     ]
    }
   ],
   "source": [
    "#46. Implement a function to find the first missing positive\n",
    "\n",
    "def first_missing_positive(X, n):\n",
    "    for i in range(1, n + 2):\n",
    "        missing_flag = True\n",
    "        for j in range(n):\n",
    "            if X[j] == i:\n",
    "                missing_flag = False\n",
    "                break\n",
    "        if missing_flag:\n",
    "            return i\n",
    "\n",
    "    return n + 1\n",
    "\n",
    "input_numbers = input(\"Enter the numbers (space-separated): \").split()\n",
    "numbers = [int(num) for num in input_numbers]\n",
    "size = len(numbers)\n",
    "\n",
    "missing_positive = first_missing_positive(numbers, size)\n",
    "print(\"First missing positive integer:\", missing_positive)"
   ]
  },
  {
   "cell_type": "code",
   "execution_count": null,
   "id": "bf6dee6a-b18d-4e3c-bcdb-29d7a5f30c8f",
   "metadata": {},
   "outputs": [],
   "source": []
  }
 ],
 "metadata": {
  "kernelspec": {
   "display_name": "Python 3 (ipykernel)",
   "language": "python",
   "name": "python3"
  },
  "language_info": {
   "codemirror_mode": {
    "name": "ipython",
    "version": 3
   },
   "file_extension": ".py",
   "mimetype": "text/x-python",
   "name": "python",
   "nbconvert_exporter": "python",
   "pygments_lexer": "ipython3",
   "version": "3.10.6"
  }
 },
 "nbformat": 4,
 "nbformat_minor": 5
}
